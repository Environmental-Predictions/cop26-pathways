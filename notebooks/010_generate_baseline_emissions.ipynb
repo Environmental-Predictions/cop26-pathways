{
 "cells": [
  {
   "cell_type": "markdown",
   "id": "f54da923",
   "metadata": {},
   "source": [
    "# Generate emissions scenarios and run in FaIR\n",
    "\n",
    "Here, we check that we can reproduce the baseline results of AR6 using SSP2-4.5 in FaIR, and export the emissions scenarios that we want to run our modified scenarios with.\n",
    "\n",
    "We see that according to UNFCCC NDC Synthesis Report (https://unfccc.int/sites/default/files/resource/cma2021_08_adv_1.pdf), SSP2-4.5 is quite in line with NDC projections to 2030. So, we use this as our baseline scenario."
   ]
  },
  {
   "cell_type": "code",
   "execution_count": 18,
   "id": "b90e2ad5",
   "metadata": {},
   "outputs": [],
   "source": [
    "import copy\n",
    "import json\n",
    "from multiprocessing import Pool\n",
    "\n",
    "import fair\n",
    "import matplotlib.pyplot as pl\n",
    "import numpy as np\n",
    "import pandas as pd\n",
    "from scipy.interpolate import interp1d\n",
    "from tqdm import tqdm"
   ]
  },
  {
   "cell_type": "code",
   "execution_count": 2,
   "id": "f1851337",
   "metadata": {},
   "outputs": [],
   "source": [
    "with open('../data_input/fair-1.6.2-ar6/fair-1.6.2-wg3-params.json') as f:\n",
    "    config_list = json.load(f)"
   ]
  },
  {
   "cell_type": "code",
   "execution_count": 15,
   "id": "8c9cd33b",
   "metadata": {},
   "outputs": [],
   "source": [
    "df = pd.read_csv('../data_input/ar6/gmst-assessment.csv')\n",
    "ar6_gmst = df['temperature'].values"
   ]
  },
  {
   "cell_type": "code",
   "execution_count": 10,
   "id": "2e772c4b",
   "metadata": {},
   "outputs": [],
   "source": [
    "emissions_out = {}\n",
    "results_out = {}"
   ]
  },
  {
   "cell_type": "markdown",
   "id": "57abd1d9",
   "metadata": {},
   "source": [
    "## transition from historical to SSP projections\n",
    "\n",
    "We use the same method as in AR6 to transition from updated historical observations up to 2019 and SSP scenarios that start in 2014.\n",
    "\n",
    "See https://github.com/chrisroadmap/ar6/blob/main/notebooks/080_chapter7_AR6_ERF.ipynb"
   ]
  },
  {
   "cell_type": "code",
   "execution_count": 3,
   "id": "48a843b5",
   "metadata": {},
   "outputs": [
    {
     "data": {
      "text/html": [
       "<div>\n",
       "<style scoped>\n",
       "    .dataframe tbody tr th:only-of-type {\n",
       "        vertical-align: middle;\n",
       "    }\n",
       "\n",
       "    .dataframe tbody tr th {\n",
       "        vertical-align: top;\n",
       "    }\n",
       "\n",
       "    .dataframe thead th {\n",
       "        text-align: right;\n",
       "    }\n",
       "</style>\n",
       "<table border=\"1\" class=\"dataframe\">\n",
       "  <thead>\n",
       "    <tr style=\"text-align: right;\">\n",
       "      <th></th>\n",
       "      <th>BC</th>\n",
       "      <th>CO</th>\n",
       "      <th>CO2</th>\n",
       "      <th>NH3</th>\n",
       "      <th>NOx</th>\n",
       "      <th>OC</th>\n",
       "      <th>SO2</th>\n",
       "      <th>VOC</th>\n",
       "    </tr>\n",
       "    <tr>\n",
       "      <th>year</th>\n",
       "      <th></th>\n",
       "      <th></th>\n",
       "      <th></th>\n",
       "      <th></th>\n",
       "      <th></th>\n",
       "      <th></th>\n",
       "      <th></th>\n",
       "      <th></th>\n",
       "    </tr>\n",
       "  </thead>\n",
       "  <tbody>\n",
       "    <tr>\n",
       "      <th>1750</th>\n",
       "      <td>2.096539</td>\n",
       "      <td>348.447580</td>\n",
       "      <td>8.576757</td>\n",
       "      <td>6.656572</td>\n",
       "      <td>12.728669</td>\n",
       "      <td>15.445726</td>\n",
       "      <td>2.293819</td>\n",
       "      <td>60.621604</td>\n",
       "    </tr>\n",
       "    <tr>\n",
       "      <th>1751</th>\n",
       "      <td>2.071691</td>\n",
       "      <td>343.846182</td>\n",
       "      <td>8.576757</td>\n",
       "      <td>6.587983</td>\n",
       "      <td>12.585743</td>\n",
       "      <td>15.186770</td>\n",
       "      <td>2.263149</td>\n",
       "      <td>59.690086</td>\n",
       "    </tr>\n",
       "    <tr>\n",
       "      <th>1752</th>\n",
       "      <td>2.063075</td>\n",
       "      <td>341.728428</td>\n",
       "      <td>8.580118</td>\n",
       "      <td>6.546281</td>\n",
       "      <td>12.587693</td>\n",
       "      <td>15.032524</td>\n",
       "      <td>2.252466</td>\n",
       "      <td>59.236140</td>\n",
       "    </tr>\n",
       "    <tr>\n",
       "      <th>1753</th>\n",
       "      <td>2.070710</td>\n",
       "      <td>343.594444</td>\n",
       "      <td>8.580118</td>\n",
       "      <td>6.607197</td>\n",
       "      <td>12.533225</td>\n",
       "      <td>15.180589</td>\n",
       "      <td>2.266458</td>\n",
       "      <td>59.632675</td>\n",
       "    </tr>\n",
       "    <tr>\n",
       "      <th>1754</th>\n",
       "      <td>2.098107</td>\n",
       "      <td>349.734192</td>\n",
       "      <td>8.583478</td>\n",
       "      <td>6.739907</td>\n",
       "      <td>12.630225</td>\n",
       "      <td>15.556812</td>\n",
       "      <td>2.318330</td>\n",
       "      <td>60.878454</td>\n",
       "    </tr>\n",
       "    <tr>\n",
       "      <th>...</th>\n",
       "      <td>...</td>\n",
       "      <td>...</td>\n",
       "      <td>...</td>\n",
       "      <td>...</td>\n",
       "      <td>...</td>\n",
       "      <td>...</td>\n",
       "      <td>...</td>\n",
       "      <td>...</td>\n",
       "    </tr>\n",
       "    <tr>\n",
       "      <th>2015</th>\n",
       "      <td>7.772863</td>\n",
       "      <td>891.122622</td>\n",
       "      <td>34501.857574</td>\n",
       "      <td>63.079885</td>\n",
       "      <td>138.550976</td>\n",
       "      <td>28.997895</td>\n",
       "      <td>94.125586</td>\n",
       "      <td>212.244598</td>\n",
       "    </tr>\n",
       "    <tr>\n",
       "      <th>2016</th>\n",
       "      <td>7.665941</td>\n",
       "      <td>871.973336</td>\n",
       "      <td>34493.063227</td>\n",
       "      <td>63.683214</td>\n",
       "      <td>136.836545</td>\n",
       "      <td>28.965911</td>\n",
       "      <td>90.351628</td>\n",
       "      <td>211.242927</td>\n",
       "    </tr>\n",
       "    <tr>\n",
       "      <th>2017</th>\n",
       "      <td>7.657160</td>\n",
       "      <td>863.791831</td>\n",
       "      <td>34985.111571</td>\n",
       "      <td>64.349705</td>\n",
       "      <td>136.619149</td>\n",
       "      <td>28.912940</td>\n",
       "      <td>87.109098</td>\n",
       "      <td>211.172681</td>\n",
       "    </tr>\n",
       "    <tr>\n",
       "      <th>2018</th>\n",
       "      <td>7.613499</td>\n",
       "      <td>857.204701</td>\n",
       "      <td>35863.131492</td>\n",
       "      <td>64.909826</td>\n",
       "      <td>135.688524</td>\n",
       "      <td>28.776522</td>\n",
       "      <td>86.632434</td>\n",
       "      <td>209.881059</td>\n",
       "    </tr>\n",
       "    <tr>\n",
       "      <th>2019</th>\n",
       "      <td>7.559513</td>\n",
       "      <td>851.016454</td>\n",
       "      <td>36040.300690</td>\n",
       "      <td>65.477214</td>\n",
       "      <td>134.457460</td>\n",
       "      <td>28.617745</td>\n",
       "      <td>85.289259</td>\n",
       "      <td>208.723220</td>\n",
       "    </tr>\n",
       "  </tbody>\n",
       "</table>\n",
       "<p>270 rows × 8 columns</p>\n",
       "</div>"
      ],
      "text/plain": [
       "            BC          CO           CO2        NH3         NOx         OC  \\\n",
       "year                                                                         \n",
       "1750  2.096539  348.447580      8.576757   6.656572   12.728669  15.445726   \n",
       "1751  2.071691  343.846182      8.576757   6.587983   12.585743  15.186770   \n",
       "1752  2.063075  341.728428      8.580118   6.546281   12.587693  15.032524   \n",
       "1753  2.070710  343.594444      8.580118   6.607197   12.533225  15.180589   \n",
       "1754  2.098107  349.734192      8.583478   6.739907   12.630225  15.556812   \n",
       "...        ...         ...           ...        ...         ...        ...   \n",
       "2015  7.772863  891.122622  34501.857574  63.079885  138.550976  28.997895   \n",
       "2016  7.665941  871.973336  34493.063227  63.683214  136.836545  28.965911   \n",
       "2017  7.657160  863.791831  34985.111571  64.349705  136.619149  28.912940   \n",
       "2018  7.613499  857.204701  35863.131492  64.909826  135.688524  28.776522   \n",
       "2019  7.559513  851.016454  36040.300690  65.477214  134.457460  28.617745   \n",
       "\n",
       "            SO2         VOC  \n",
       "year                         \n",
       "1750   2.293819   60.621604  \n",
       "1751   2.263149   59.690086  \n",
       "1752   2.252466   59.236140  \n",
       "1753   2.266458   59.632675  \n",
       "1754   2.318330   60.878454  \n",
       "...         ...         ...  \n",
       "2015  94.125586  212.244598  \n",
       "2016  90.351628  211.242927  \n",
       "2017  87.109098  211.172681  \n",
       "2018  86.632434  209.881059  \n",
       "2019  85.289259  208.723220  \n",
       "\n",
       "[270 rows x 8 columns]"
      ]
     },
     "execution_count": 3,
     "metadata": {},
     "output_type": "execute_result"
    }
   ],
   "source": [
    "emissions = pd.read_csv('../data_input/rcmip/rcmip-emissions-annual-means-world-ssp245-v5-1-0.csv')\n",
    "df_emissions = pd.concat([emissions.loc[(\n",
    "        (emissions.Variable=='Emissions|BC')|\n",
    "        (emissions.Variable=='Emissions|OC')|\n",
    "        (emissions.Variable=='Emissions|Sulfur')|\n",
    "        (emissions.Variable=='Emissions|NOx')|\n",
    "        (emissions.Variable=='Emissions|NH3')|\n",
    "        (emissions.Variable=='Emissions|VOC')|\n",
    "        (emissions.Variable=='Emissions|CO')\n",
    "    ) & (emissions.Scenario=='ssp245') & (emissions.Region=='World'), 'Variable'], emissions.loc[(\n",
    "        (emissions.Variable=='Emissions|BC')|\n",
    "        (emissions.Variable=='Emissions|OC')|\n",
    "        (emissions.Variable=='Emissions|Sulfur')|\n",
    "        (emissions.Variable=='Emissions|NOx')|\n",
    "        (emissions.Variable=='Emissions|NH3')|\n",
    "        (emissions.Variable=='Emissions|VOC')|\n",
    "        (emissions.Variable=='Emissions|CO')\n",
    "    ) & (emissions.Scenario=='ssp245') & (emissions.Region=='World'), '1750':'2100']], axis=1)\n",
    "df_emissions.set_index('Variable', inplace=True)\n",
    "df_emissions = df_emissions.interpolate(axis=1).T\n",
    "df_emissions.rename(\n",
    "    columns={\n",
    "        'Emissions|BC': 'BC',\n",
    "        'Emissions|OC': 'OC',\n",
    "        'Emissions|Sulfur': 'SO2',\n",
    "        'Emissions|NOx': 'NOx',\n",
    "        'Emissions|NH3': 'NH3',\n",
    "        'Emissions|VOC': 'VOC',\n",
    "        'Emissions|CO': 'CO',\n",
    "        'Emissions|CO2': 'CO2'\n",
    "    }, inplace=True\n",
    ")\n",
    "# only keep cols we want\n",
    "emissions = df_emissions[['SO2', 'BC', 'OC', 'NH3', 'NOx', 'VOC', 'CO']]\n",
    "emissions.index = emissions.index.astype('int')\n",
    "emissions.index.name='year'\n",
    "emissions.columns.name=None\n",
    "\n",
    "emissions_ceds_update = emissions.copy()\n",
    "\n",
    "emissions_old = pd.read_csv('../data_input/rcmip/rcmip-emissions-annual-means-world-ssp245-v5-1-0.csv')\n",
    "df_emissions = pd.concat([emissions_old.loc[(\n",
    "        (emissions_old.Variable=='Emissions|BC|MAGICC Fossil and Industrial')|\n",
    "        (emissions_old.Variable=='Emissions|OC|MAGICC Fossil and Industrial')|\n",
    "        (emissions_old.Variable=='Emissions|Sulfur|MAGICC Fossil and Industrial')|\n",
    "        (emissions_old.Variable=='Emissions|NOx|MAGICC Fossil and Industrial')|\n",
    "        (emissions_old.Variable=='Emissions|NH3|MAGICC Fossil and Industrial')|\n",
    "        (emissions_old.Variable=='Emissions|VOC|MAGICC Fossil and Industrial')|\n",
    "        (emissions_old.Variable=='Emissions|CO|MAGICC Fossil and Industrial')|\n",
    "        (emissions_old.Variable=='Emissions|BC|MAGICC AFOLU|Agriculture')|\n",
    "        (emissions_old.Variable=='Emissions|OC|MAGICC AFOLU|Agriculture')|\n",
    "        (emissions_old.Variable=='Emissions|Sulfur|MAGICC AFOLU|Agriculture')|\n",
    "        (emissions_old.Variable=='Emissions|NOx|MAGICC AFOLU|Agriculture')|\n",
    "        (emissions_old.Variable=='Emissions|NH3|MAGICC AFOLU|Agriculture')|\n",
    "        (emissions_old.Variable=='Emissions|VOC|MAGICC AFOLU|Agriculture')|\n",
    "        (emissions_old.Variable=='Emissions|CO|MAGICC AFOLU|Agriculture')\n",
    "    ) & (emissions_old.Scenario=='ssp245') & (emissions_old.Region=='World'), 'Variable'], emissions_old.loc[(\n",
    "        (emissions_old.Variable=='Emissions|BC|MAGICC Fossil and Industrial')|\n",
    "        (emissions_old.Variable=='Emissions|OC|MAGICC Fossil and Industrial')|\n",
    "        (emissions_old.Variable=='Emissions|Sulfur|MAGICC Fossil and Industrial')|\n",
    "        (emissions_old.Variable=='Emissions|NOx|MAGICC Fossil and Industrial')|\n",
    "        (emissions_old.Variable=='Emissions|NH3|MAGICC Fossil and Industrial')|\n",
    "        (emissions_old.Variable=='Emissions|VOC|MAGICC Fossil and Industrial')|\n",
    "        (emissions_old.Variable=='Emissions|CO|MAGICC Fossil and Industrial')|\n",
    "#        (emissions_old.Variable=='Emissions|CO2|MAGICC Fossil and Industrial')|\n",
    "        (emissions_old.Variable=='Emissions|BC|MAGICC AFOLU|Agriculture')|\n",
    "        (emissions_old.Variable=='Emissions|OC|MAGICC AFOLU|Agriculture')|\n",
    "        (emissions_old.Variable=='Emissions|Sulfur|MAGICC AFOLU|Agriculture')|\n",
    "        (emissions_old.Variable=='Emissions|NOx|MAGICC AFOLU|Agriculture')|\n",
    "        (emissions_old.Variable=='Emissions|NH3|MAGICC AFOLU|Agriculture')|\n",
    "        (emissions_old.Variable=='Emissions|VOC|MAGICC AFOLU|Agriculture')|\n",
    "        (emissions_old.Variable=='Emissions|CO|MAGICC AFOLU|Agriculture')\n",
    "    ) & (emissions_old.Scenario=='ssp245') & (emissions_old.Region=='World'), '1750':'2100']], axis=1)\n",
    "df_emissions.set_index('Variable', inplace=True)\n",
    "df_emissions = df_emissions.interpolate(axis=1).T\n",
    "for species in ['BC', 'OC', 'Sulfur', 'NOx', 'NH3', 'VOC', 'CO']:\n",
    "    df_emissions[species] = df_emissions['Emissions|{}|MAGICC Fossil and Industrial'.format(species)] + df_emissions['Emissions|{}|MAGICC AFOLU|Agriculture'.format(species)]\n",
    "df_emissions.rename(columns = {'Sulfur': 'SO2'}, inplace=True)\n",
    "df_emissions.drop(columns=[\n",
    "        'Emissions|BC|MAGICC Fossil and Industrial',\n",
    "        'Emissions|OC|MAGICC Fossil and Industrial',\n",
    "        'Emissions|Sulfur|MAGICC Fossil and Industrial',\n",
    "        'Emissions|NOx|MAGICC Fossil and Industrial',\n",
    "        'Emissions|NH3|MAGICC Fossil and Industrial',\n",
    "        'Emissions|VOC|MAGICC Fossil and Industrial',\n",
    "        'Emissions|CO|MAGICC Fossil and Industrial',\n",
    "        'Emissions|BC|MAGICC AFOLU|Agriculture',\n",
    "        'Emissions|OC|MAGICC AFOLU|Agriculture',\n",
    "        'Emissions|Sulfur|MAGICC AFOLU|Agriculture',\n",
    "        'Emissions|NOx|MAGICC AFOLU|Agriculture',\n",
    "        'Emissions|NH3|MAGICC AFOLU|Agriculture',\n",
    "        'Emissions|VOC|MAGICC AFOLU|Agriculture',\n",
    "        'Emissions|CO|MAGICC AFOLU|Agriculture',\n",
    "    ],\n",
    "    inplace=True\n",
    ")\n",
    "df_emissions.index = emissions.index.astype('int')\n",
    "df_emissions.index.name='year'\n",
    "df_emissions.columns.name=None\n",
    "\n",
    "global_total = {}\n",
    "for species in ['BC', 'OC', 'SO2', 'NH3', 'NOx', 'NMVOC', 'CO', 'CO2']:\n",
    "    df = pd.read_csv(\n",
    "        '../data_input/ceds-20210421/{}_global_CEDS_emissions_by_sector_2021_04_21.csv'.format(species)\n",
    "    )\n",
    "    global_total[species] = df.sum(axis=0).values[3:].astype(float) / 1000\n",
    "global_total['VOC'] = global_total.pop('NMVOC')\n",
    "new_ceds = pd.DataFrame(global_total)\n",
    "new_ceds.index = np.arange(1750,2020)\n",
    "new_ceds.index = new_ceds.index.astype('int')\n",
    "new_ceds.index.name='year'\n",
    "new_ceds.columns.name=None\n",
    "emissions['CO2'] = 0\n",
    "df_emissions['CO2'] = 0\n",
    "emissions_ceds_update = new_ceds.loc[1750:2020] + emissions - df_emissions\n",
    "emissions_ceds_update.drop(index=range(2020,2101), inplace=True)\n",
    "emissions_ceds_update"
   ]
  },
  {
   "cell_type": "markdown",
   "id": "895f105d",
   "metadata": {},
   "source": [
    "## convenience function for running FaIR config with each emission species"
   ]
  },
  {
   "cell_type": "code",
   "execution_count": 28,
   "id": "9c7d4051",
   "metadata": {},
   "outputs": [],
   "source": [
    "def run_fair(args):\n",
    "    thisC, thisF, thisT, _, thisOHU, _, thisAF = fair.forward.fair_scm(**args)\n",
    "    return (thisC[:,0], thisT, np.sum(thisF[:,:43], axis=1), np.sum(thisF[:,35:41], axis=1), np.sum(thisF, axis=1))\n",
    "\n",
    "def fair_process(emissions):\n",
    "    updated_config = []\n",
    "    for i, cfg in enumerate(config_list):\n",
    "        updated_config.append({})\n",
    "        for key, value in cfg.items():\n",
    "            if isinstance(value, list):\n",
    "                updated_config[i][key] = np.asarray(value)\n",
    "            else:\n",
    "                updated_config[i][key] = value\n",
    "        updated_config[i]['emissions'] = emissions\n",
    "        updated_config[i]['diagnostics'] = 'AR6'\n",
    "        updated_config[i][\"efficacy\"] = np.ones(45)\n",
    "        updated_config[i][\"gir_carbon_cycle\"] = True\n",
    "        updated_config[i][\"temperature_function\"] = \"Geoffroy\"\n",
    "        updated_config[i][\"aerosol_forcing\"] = \"aerocom+ghan2\"\n",
    "        updated_config[i][\"fixPre1850RCP\"] = False\n",
    "    #    updated_config[i][\"scale\"][43] = 0.6\n",
    "        updated_config[i][\"F_solar\"][270:] = 0\n",
    "    \n",
    "    if __name__ == '__main__':\n",
    "        with Pool(3) as pool:\n",
    "            result = list(tqdm(pool.imap(run_fair, updated_config), total=len(updated_config)))\n",
    "    \n",
    "    result_t = np.array(result).transpose(1,2,0)\n",
    "    c, t, f_ant, f_aer, f_tot = result_t\n",
    "    temp_rebase = t - t[100:151,:].mean(axis=0)\n",
    "    \n",
    "    return c, temp_rebase, f_ant, f_aer, f_tot"
   ]
  },
  {
   "cell_type": "markdown",
   "id": "bd7bc49d",
   "metadata": {},
   "source": [
    "## Run SSP2-4.5 emissions driven in AR6 config"
   ]
  },
  {
   "cell_type": "code",
   "execution_count": 4,
   "id": "1c24cc76",
   "metadata": {},
   "outputs": [],
   "source": [
    "scenarios = [\"ssp245\"]"
   ]
  },
  {
   "cell_type": "code",
   "execution_count": 5,
   "id": "28395d3a",
   "metadata": {},
   "outputs": [],
   "source": [
    "ssp_df = pd.read_csv('../data_input/rcmip/rcmip-emissions-annual-means-world-ssp245-v5-1-0.csv')\n",
    "years = np.arange(1750, 2111)\n",
    "\n",
    "startyear = 1750\n",
    "first_scenyear = 2015\n",
    "last_scenyear = 2110\n",
    "first_row = int(first_scenyear-startyear)\n",
    "last_row = int(last_scenyear-startyear)\n",
    "\n",
    "species = [  # in fair 1.6, order is important\n",
    "    '|CO2|MAGICC Fossil and Industrial',\n",
    "    '|CO2|MAGICC AFOLU',\n",
    "    '|CH4',\n",
    "    '|N2O',\n",
    "    '|Sulfur',\n",
    "    '|CO',\n",
    "    '|VOC',\n",
    "    '|NOx',\n",
    "    '|BC',\n",
    "    '|OC',\n",
    "    '|NH3',\n",
    "    '|CF4',\n",
    "    '|C2F6',\n",
    "    '|C6F14',\n",
    "    '|HFC23',\n",
    "    '|HFC32',\n",
    "    '|HFC4310mee',\n",
    "    '|HFC125',\n",
    "    '|HFC134a',\n",
    "    '|HFC143a',\n",
    "    '|HFC227ea',\n",
    "    '|HFC245fa',\n",
    "    '|SF6',\n",
    "    '|CFC11',\n",
    "    '|CFC12',\n",
    "    '|CFC113',\n",
    "    '|CFC114',\n",
    "    '|CFC115',\n",
    "    '|CCl4',\n",
    "    '|CH3CCl3',\n",
    "    '|HCFC22',\n",
    "    '|HCFC141b',\n",
    "    '|HCFC142b',\n",
    "    '|Halon1211',\n",
    "    '|Halon1202',\n",
    "    '|Halon1301',\n",
    "    '|Halon2402',\n",
    "    '|CH3Br',\n",
    "    '|CH3Cl',\n",
    "]\n",
    "\n",
    "unit_convert = np.ones(40)\n",
    "unit_convert[1] = 12/44/1000\n",
    "unit_convert[2] = 12/44/1000\n",
    "unit_convert[4] = 28/44/1000\n",
    "unit_convert[5] = 32/64\n",
    "unit_convert[8] = 14/46\n",
    "\n",
    "for scenario in scenarios:\n",
    "    emissions_out[scenario] = np.ones((361, 40)) * np.nan\n",
    "    emissions_out[scenario][:,0] = years\n",
    "\n",
    "    years_future = [2015] + list(range(2020,2111,10))\n",
    "    for i, specie in enumerate(species):\n",
    "        emissions_out[scenario][:first_row,i+1] = ssp_df.loc[\n",
    "            (ssp_df['Model']=='MESSAGE-GLOBIOM')&\n",
    "            (ssp_df['Region']=='World')&\n",
    "            (ssp_df['Scenario']=='ssp245')&\n",
    "            (ssp_df['Variable'].str.endswith(specie)),str(startyear):'2014']*unit_convert[i+1]\n",
    "        f = interp1d(years_future, ssp_df.loc[\n",
    "            (ssp_df['Model']=='MESSAGE-GLOBIOM')&\n",
    "            (ssp_df['Region']=='World')&\n",
    "            (ssp_df['Scenario']=='ssp245')&\n",
    "            (ssp_df['Variable'].str.endswith(specie)),'2015':'2110'].dropna(axis=1))\n",
    "        emissions_out[scenario][first_row:(last_row+1), i+1] = f(\n",
    "            np.arange(first_scenyear, last_scenyear+1)\n",
    "        )*unit_convert[i+1]\n",
    "    \n",
    "    # fill in history\n",
    "    emissions_out[scenario][:265,1] = emissions_ceds_update.loc[:2014,'CO2'] * unit_convert[1]\n",
    "    emissions_out[scenario][:265,5] = emissions_ceds_update.loc[:2014,'SO2'] * unit_convert[5]\n",
    "    emissions_out[scenario][:265,6] = emissions_ceds_update.loc[:2014,'CO']\n",
    "    emissions_out[scenario][:265,7] = emissions_ceds_update.loc[:2014,'VOC']\n",
    "    emissions_out[scenario][:265,8] = emissions_ceds_update.loc[:2014,'NOx'] * unit_convert[8]\n",
    "    emissions_out[scenario][:265,9] = emissions_ceds_update.loc[:2014,'BC']\n",
    "    emissions_out[scenario][:265,10] = emissions_ceds_update.loc[:2014,'OC']\n",
    "    emissions_out[scenario][:265,11] = emissions_ceds_update.loc[:2014,'NH3']\n",
    "    \n",
    "    emissions_out[scenario][265:270,1] = np.linspace(1,0.2,5) * emissions_ceds_update.loc[2015:2019,'CO2'].values * unit_convert[1] + np.linspace(0,0.8,5) * emissions_out[scenario][265:270,1]\n",
    "    emissions_out[scenario][265:270,9] = np.linspace(1,0.2,5) * emissions_ceds_update.loc[2015:2019,'BC'].values + np.linspace(0,0.8,5) * emissions_out[scenario][265:270,9]\n",
    "    emissions_out[scenario][265:270,10] = np.linspace(1,0.2,5) * emissions_ceds_update.loc[2015:2019,'OC'].values + np.linspace(0,0.8,5) * emissions_out[scenario][265:270,10]\n",
    "    emissions_out[scenario][265:270,5] = np.linspace(1,0.2,5) * emissions_ceds_update.loc[2015:2019,'SO2'].values * unit_convert[5] + np.linspace(0,0.8,5) * emissions_out[scenario][265:270,5]\n",
    "    emissions_out[scenario][265:270,11] = np.linspace(1,0.2,5) * emissions_ceds_update.loc[2015:2019,'NH3'].values + np.linspace(0,0.8,5) * emissions_out[scenario][265:270,11]\n",
    "    emissions_out[scenario][265:270,8] = np.linspace(1,0.2,5) * emissions_ceds_update.loc[2015:2019,'NOx'].values  * unit_convert[8] + np.linspace(0,0.8,5) * emissions_out[scenario][265:270,8]\n",
    "    emissions_out[scenario][265:270,7] = np.linspace(1,0.2,5) * emissions_ceds_update.loc[2015:2019,'VOC'].values + np.linspace(0,0.8,5) * emissions_out[scenario][265:270,7]\n",
    "    emissions_out[scenario][265:270,6] = np.linspace(1,0.2,5) * emissions_ceds_update.loc[2015:2019,'CO'].values + np.linspace(0,0.8,5) * emissions_out[scenario][265:270,6]\n",
    "    \n",
    "#    # use constant 2019 emissions for 2020 and 2021\n",
    "#    emissions_out[scenario][270:272,1:] = emissions_out[scenario][269,1:]"
   ]
  },
  {
   "cell_type": "code",
   "execution_count": 6,
   "id": "4f402bc0",
   "metadata": {},
   "outputs": [
    {
     "data": {
      "text/plain": [
       "Text(0, 0.5, 'relative units, year 2020 = 100')"
      ]
     },
     "execution_count": 6,
     "metadata": {},
     "output_type": "execute_result"
    },
    {
     "data": {
      "image/png": "[encoded data removed]",
      "text/plain": [
       "<Figure size 432x288 with 1 Axes>"
      ]
     },
     "metadata": {
      "needs_background": "light"
     },
     "output_type": "display_data"
    }
   ],
   "source": [
    "for specie_index in [1, 5, 6, 7, 8, 9, 10, 11]:\n",
    "    pl.plot(\n",
    "        np.arange(1980.5, 2101),\n",
    "        100 * emissions_out[scenario][230:351, specie_index] / emissions_out[scenario][270, specie_index],\n",
    "        label=specie_index,\n",
    "    )\n",
    "pl.legend()\n",
    "pl.title('reconstructed emissions')\n",
    "pl.ylabel('relative units, year 2020 = 100')"
   ]
  },
  {
   "cell_type": "code",
   "execution_count": 7,
   "id": "06d560f9",
   "metadata": {},
   "outputs": [],
   "source": [
    "updated_config = []\n",
    "for i, cfg in enumerate(config_list):\n",
    "    updated_config.append({})\n",
    "    for key, value in cfg.items():\n",
    "        if isinstance(value, list):\n",
    "            updated_config[i][key] = np.asarray(value)\n",
    "        else:\n",
    "            updated_config[i][key] = value\n",
    "    updated_config[i]['emissions'] = emissions_out[scenario]\n",
    "    updated_config[i]['diagnostics'] = 'AR6'\n",
    "    updated_config[i][\"efficacy\"] = np.ones(45)\n",
    "    updated_config[i][\"gir_carbon_cycle\"] = True\n",
    "    updated_config[i][\"temperature_function\"] = \"Geoffroy\"\n",
    "    updated_config[i][\"aerosol_forcing\"] = \"aerocom+ghan2\"\n",
    "    updated_config[i][\"fixPre1850RCP\"] = False\n",
    "#    updated_config[i][\"scale\"][43] = 0.6\n",
    "    updated_config[i][\"F_solar\"][270:] = 0"
   ]
  },
  {
   "cell_type": "code",
   "execution_count": 8,
   "id": "a52ae492",
   "metadata": {},
   "outputs": [
    {
     "name": "stderr",
     "output_type": "stream",
     "text": [
      "100%|███████████████████████████████████████| 2237/2237 [03:23<00:00, 10.98it/s]\n"
     ]
    }
   ],
   "source": [
    "def run_fair(args):\n",
    "    thisC, thisF, thisT, _, thisOHU, _, thisAF = fair.forward.fair_scm(**args)\n",
    "    return (thisC[:,0], thisT, np.sum(thisF[:,:43], axis=1), np.sum(thisF[:,35:41], axis=1), np.sum(thisF, axis=1))\n",
    "\n",
    "if __name__ == '__main__':\n",
    "    with Pool(3) as pool:\n",
    "        result = list(tqdm(pool.imap(run_fair, updated_config), total=len(updated_config)))"
   ]
  },
  {
   "cell_type": "code",
   "execution_count": 9,
   "id": "7081aea2",
   "metadata": {},
   "outputs": [],
   "source": [
    "result_t = np.array(result).transpose(1,2,0)"
   ]
  },
  {
   "cell_type": "code",
   "execution_count": 11,
   "id": "6d9e7204",
   "metadata": {},
   "outputs": [],
   "source": [
    "results_out[scenario] = {}\n",
    "c, t, f_ant, f_aer, f_tot = result_t\n",
    "temp_rebase = t - t[100:151,:].mean(axis=0)\n",
    "results_out[scenario]['co2_conc'] = c\n",
    "results_out[scenario]['temp'] = temp_rebase\n",
    "results_out[scenario]['F_ant'] = f_ant\n",
    "results_out[scenario]['F_aer'] = f_aer\n",
    "results_out[scenario]['F_tot'] = f_tot"
   ]
  },
  {
   "cell_type": "code",
   "execution_count": 16,
   "id": "82b339e9",
   "metadata": {},
   "outputs": [
    {
     "data": {
      "image/png": "[encoded data removed]",
      "text/plain": [
       "<Figure size 432x288 with 1 Axes>"
      ]
     },
     "metadata": {
      "needs_background": "light"
     },
     "output_type": "display_data"
    }
   ],
   "source": [
    "pl.fill_between(np.arange(1750.5,2111), np.percentile(results_out[scenario]['temp'], 5, axis=1), np.percentile(results_out[scenario]['temp'], 95, axis=1))\n",
    "pl.plot(np.arange(1750.5,2111), np.percentile(results_out[scenario]['temp'], 50, axis=1), color='k')\n",
    "pl.plot(np.arange(1850.5, 2021), ar6_gmst, color='r')\n",
    "\n",
    "pl.grid()"
   ]
  },
  {
   "cell_type": "code",
   "execution_count": 17,
   "id": "4740c5d5",
   "metadata": {},
   "outputs": [
    {
     "data": {
      "text/plain": [
       "{'ssp245': array([[ 1.75000000e+03,  2.33911547e-03,  8.11267109e-02, ...,\n",
       "          0.00000000e+00,  1.05087730e+02,  4.27574490e+03],\n",
       "        [ 1.75100000e+03,  2.33911547e-03,  8.26192087e-02, ...,\n",
       "          0.00000000e+00,  1.05107200e+02,  4.27676850e+03],\n",
       "        [ 1.75200000e+03,  2.34003205e-03,  8.41391642e-02, ...,\n",
       "          0.00000000e+00,  1.05125020e+02,  4.27770490e+03],\n",
       "        ...,\n",
       "        [ 2.10800000e+03,  3.73923069e+00, -1.09965400e+00, ...,\n",
       "          7.66800000e-03,  1.07602299e+02,  4.36670685e+03],\n",
       "        [ 2.10900000e+03,  3.71289808e+00, -1.07347176e+00, ...,\n",
       "          7.61400000e-03,  1.06844536e+02,  4.33595539e+03],\n",
       "        [ 2.11000000e+03,  3.68656547e+00, -1.04728952e+00, ...,\n",
       "          7.56000000e-03,  1.06086773e+02,  4.30520393e+03]])}"
      ]
     },
     "execution_count": 17,
     "metadata": {},
     "output_type": "execute_result"
    }
   ],
   "source": [
    "emissions_out"
   ]
  },
  {
   "cell_type": "markdown",
   "id": "e418afea",
   "metadata": {},
   "source": [
    "## 50% methane reduction in 2030 \n",
    "\n",
    "We will use SSP2-4.5 as a baseline and assume a linear decline 2020 to 2030, with 50% below SSP2-4.5 values in all future years.\n",
    "\n",
    "- 380 MtCH4/yr as \"business as usual\" in 2030 in ETC Keeping 1.5C Alive\n",
    "- 382 MtCH4/yr in 2030 in SSP2-4.5"
   ]
  },
  {
   "cell_type": "code",
   "execution_count": 26,
   "id": "b3bb1e1b",
   "metadata": {},
   "outputs": [],
   "source": [
    "emissions_out['ch4_50'] = copy.copy(emissions_out['ssp245'])\n",
    "\n",
    "emissions_out['ch4_50'][280:,3] = emissions_out['ch4_50'][280:,3] * 0.5\n",
    "emissions_out['ch4_50'][270:281,3] = np.linspace(1,0,11)*emissions_out['ch4_50'][270,3] + np.linspace(0,1,11)*emissions_out['ch4_50'][280,3]"
   ]
  },
  {
   "cell_type": "code",
   "execution_count": 27,
   "id": "ea279689",
   "metadata": {},
   "outputs": [
    {
     "data": {
      "text/plain": [
       "[<matplotlib.lines.Line2D at 0x7fb9b9ced950>]"
      ]
     },
     "execution_count": 27,
     "metadata": {},
     "output_type": "execute_result"
    },
    {
     "data": {
      "image/png": "[encoded data removed]",
      "text/plain": [
       "<Figure size 432x288 with 1 Axes>"
      ]
     },
     "metadata": {
      "needs_background": "light"
     },
     "output_type": "display_data"
    }
   ],
   "source": [
    "pl.plot(emissions_out['ssp245'][:,3])\n",
    "pl.plot(emissions_out['ch4_50'][:,3])"
   ]
  },
  {
   "cell_type": "code",
   "execution_count": 29,
   "id": "bb7c45d4",
   "metadata": {},
   "outputs": [
    {
     "name": "stderr",
     "output_type": "stream",
     "text": [
      "100%|███████████████████████████████████████| 2237/2237 [03:07<00:00, 11.93it/s]\n"
     ]
    }
   ],
   "source": [
    "results_out['ch4_50'] = {}\n",
    "(\n",
    "    results_out['ch4_50']['co2_conc'],\n",
    "    results_out['ch4_50']['temp'],\n",
    "    results_out['ch4_50']['F_ant'],\n",
    "    results_out['ch4_50']['F_aer'],\n",
    "    results_out['ch4_50']['F_tot']\n",
    ") = fair_process(emissions_out['ch4_50'])"
   ]
  },
  {
   "cell_type": "code",
   "execution_count": 31,
   "id": "63cdfe14",
   "metadata": {},
   "outputs": [
    {
     "data": {
      "image/png": "[encoded data removed]",
      "text/plain": [
       "<Figure size 432x288 with 1 Axes>"
      ]
     },
     "metadata": {
      "needs_background": "light"
     },
     "output_type": "display_data"
    }
   ],
   "source": [
    "pl.fill_between(np.arange(1750.5,2111), np.percentile(results_out['ch4_50']['temp'], 5, axis=1), np.percentile(results_out['ch4_50']['temp'], 95, axis=1))\n",
    "pl.plot(np.arange(1750.5,2111), np.percentile(results_out['ch4_50']['temp'], 50, axis=1), color='k')\n",
    "pl.plot(np.arange(1850.5, 2021), ar6_gmst, color='r')\n",
    "\n",
    "pl.grid()"
   ]
  },
  {
   "cell_type": "code",
   "execution_count": 42,
   "id": "88a8b20c",
   "metadata": {},
   "outputs": [
    {
     "data": {
      "image/png": "[encoded data removed]",
      "text/plain": [
       "<Figure size 432x288 with 1 Axes>"
      ]
     },
     "metadata": {
      "needs_background": "light"
     },
     "output_type": "display_data"
    }
   ],
   "source": [
    "pl.plot(np.arange(1750.5,2111), np.percentile(results_out['ssp245']['temp'], 50, axis=1), color='k')\n",
    "pl.plot(np.arange(1750.5,2111), np.percentile(results_out['ch4_50']['temp'], 50, axis=1), color='r')\n",
    "pl.xlim(2015, 2050)\n",
    "pl.ylim(1.1, 1.9)\n",
    "pl.grid()"
   ]
  },
  {
   "cell_type": "markdown",
   "id": "39603f0c",
   "metadata": {},
   "source": [
    "## Halting deforestation in 2022\n",
    "\n",
    "Easiest to set land use CO2 emissions to zero in 2022. This might be an overall warming with respect to SSP2-4.5, because of the assumption that land use forcing scales with cumulative land use CO2."
   ]
  },
  {
   "cell_type": "code",
   "execution_count": 38,
   "id": "2b2f6058",
   "metadata": {},
   "outputs": [
    {
     "data": {
      "text/plain": [
       "[<matplotlib.lines.Line2D at 0x7fb9c127fb10>]"
      ]
     },
     "execution_count": 38,
     "metadata": {},
     "output_type": "execute_result"
    },
    {
     "data": {
      "image/png": "[encoded data removed]",
      "text/plain": [
       "<Figure size 432x288 with 1 Axes>"
      ]
     },
     "metadata": {
      "needs_background": "light"
     },
     "output_type": "display_data"
    }
   ],
   "source": [
    "emissions_out['co2afolu_0'] = copy.copy(emissions_out['ssp245'])\n",
    "emissions_out['co2afolu_0'][272:,2] = 0\n",
    "pl.plot(emissions_out['ssp245'][:,2])\n",
    "pl.plot(emissions_out['co2afolu_0'][:,2])"
   ]
  },
  {
   "cell_type": "code",
   "execution_count": 39,
   "id": "f3d212ad",
   "metadata": {},
   "outputs": [
    {
     "name": "stderr",
     "output_type": "stream",
     "text": [
      "100%|███████████████████████████████████████| 2237/2237 [02:53<00:00, 12.86it/s]\n"
     ]
    }
   ],
   "source": [
    "results_out['co2afolu_0'] = {}\n",
    "(\n",
    "    results_out['co2afolu_0']['co2_conc'],\n",
    "    results_out['co2afolu_0']['temp'],\n",
    "    results_out['co2afolu_0']['F_ant'],\n",
    "    results_out['co2afolu_0']['F_aer'],\n",
    "    results_out['co2afolu_0']['F_tot']\n",
    ") = fair_process(emissions_out['co2afolu_0'])"
   ]
  },
  {
   "cell_type": "code",
   "execution_count": 41,
   "id": "26589b81",
   "metadata": {},
   "outputs": [
    {
     "data": {
      "image/png": "[encoded data removed]",
      "text/plain": [
       "<Figure size 432x288 with 1 Axes>"
      ]
     },
     "metadata": {
      "needs_background": "light"
     },
     "output_type": "display_data"
    }
   ],
   "source": [
    "pl.plot(np.arange(1750.5,2111), np.percentile(results_out['ssp245']['temp'], 50, axis=1), color='k')\n",
    "pl.plot(np.arange(1750.5,2111), np.percentile(results_out['co2afolu_0']['temp'], 50, axis=1), color='g')\n",
    "pl.xlim(2015, 2050)\n",
    "pl.ylim(1.1, 1.9)\n",
    "pl.grid()"
   ]
  },
  {
   "cell_type": "markdown",
   "id": "be425725",
   "metadata": {},
   "source": [
    "## Coal phase out by 2030\n",
    "\n",
    "this will be a little more difficult, and requires us to go back to the IIASA Scenario Database to estimate the coal-attributable emissions. Luckily for us, which makes it easy, in SSP2-4.5 coal consumption is pretty flat from 2020 to 2030.\n",
    "\n",
    "We assume simply that coal is replaced by renewables, so zero carbon."
   ]
  },
  {
   "cell_type": "code",
   "execution_count": 56,
   "id": "ae029bc6",
   "metadata": {},
   "outputs": [],
   "source": [
    "iea_emis_df = pd.read_csv('../data_input/iea/emissions.csv')\n",
    "iea_prod_df = pd.read_csv('../data_input/iea/production.csv')"
   ]
  },
  {
   "cell_type": "code",
   "execution_count": 59,
   "id": "d4491914",
   "metadata": {},
   "outputs": [
    {
     "data": {
      "text/plain": [
       "14797529.4"
      ]
     },
     "execution_count": 59,
     "metadata": {},
     "output_type": "execute_result"
    }
   ],
   "source": [
    "coal_co2 = iea_emis_df.loc[\n",
    "    (iea_emis_df['PRODUCT']=='COAL')&\n",
    "    (iea_emis_df['GAS']=='CO2'),\n",
    "    'Value'\n",
    "].values[0]  # ktCO2\n",
    "coal_co2"
   ]
  },
  {
   "cell_type": "code",
   "execution_count": 60,
   "id": "340d825d",
   "metadata": {},
   "outputs": [
    {
     "data": {
      "text/plain": [
       "167294072.7"
      ]
     },
     "execution_count": 60,
     "metadata": {},
     "output_type": "execute_result"
    }
   ],
   "source": [
    "coal_prod = iea_prod_df.loc[\n",
    "    (iea_prod_df['PRODUCT']=='COAL'),\n",
    "    'Value'\n",
    "].values[0]  # TJ\n",
    "coal_prod"
   ]
  },
  {
   "cell_type": "code",
   "execution_count": 61,
   "id": "f539c4cd",
   "metadata": {},
   "outputs": [
    {
     "data": {
      "text/plain": [
       "0.08845220372233786"
      ]
     },
     "execution_count": 61,
     "metadata": {},
     "output_type": "execute_result"
    }
   ],
   "source": [
    "coal_co2/coal_prod \n",
    "# ktCO2/TJ = kgCO2/MJ : if this looks low, it's because we are used to seeing kgCO2/kWh electricity.\n",
    "# In a coal plant, efficiency is about 35%, and there are 3.6 MJ in 1 kWh, so we have (cell below)"
   ]
  },
  {
   "cell_type": "code",
   "execution_count": 62,
   "id": "83738843",
   "metadata": {},
   "outputs": [
    {
     "data": {
      "text/plain": [
       "0.909794095429761"
      ]
     },
     "execution_count": 62,
     "metadata": {},
     "output_type": "execute_result"
    }
   ],
   "source": [
    "coal_co2/coal_prod / 0.35 * 3.6  # kgCO2/kWh electricity"
   ]
  },
  {
   "cell_type": "code",
   "execution_count": 63,
   "id": "9378fe9b",
   "metadata": {},
   "outputs": [
    {
     "data": {
      "text/plain": [
       "34051.0"
      ]
     },
     "execution_count": 63,
     "metadata": {},
     "output_type": "execute_result"
    }
   ],
   "source": [
    "coal_ch4 = iea_emis_df.loc[\n",
    "    (iea_emis_df['PRODUCT']=='COAL')&\n",
    "    (iea_emis_df['GAS']=='CH4'),\n",
    "    'Value'\n",
    "].values[0]  # ktCH4\n",
    "coal_ch4"
   ]
  },
  {
   "cell_type": "code",
   "execution_count": 65,
   "id": "9f9d71dd",
   "metadata": {},
   "outputs": [
    {
     "data": {
      "text/plain": [
       "0.0002035397874559605"
      ]
     },
     "execution_count": 65,
     "metadata": {},
     "output_type": "execute_result"
    }
   ],
   "source": [
    "coal_ch4/coal_prod  # though does this include fugitive? I believe so."
   ]
  },
  {
   "cell_type": "code",
   "execution_count": null,
   "id": "d8bb1e0a",
   "metadata": {},
   "outputs": [],
   "source": [
    "# what about SO2"
   ]
  }
 ],
 "metadata": {
  "kernelspec": {
   "display_name": "Python 3 (ipykernel)",
   "language": "python",
   "name": "python3"
  },
  "language_info": {
   "codemirror_mode": {
    "name": "ipython",
    "version": 3
   },
   "file_extension": ".py",
   "mimetype": "text/x-python",
   "name": "python",
   "nbconvert_exporter": "python",
   "pygments_lexer": "ipython3",
   "version": "3.7.11"
  }
 },
 "nbformat": 4,
 "nbformat_minor": 5
}
