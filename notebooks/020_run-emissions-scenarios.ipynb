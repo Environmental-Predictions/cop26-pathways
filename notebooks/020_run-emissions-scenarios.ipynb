{
 "cells": [
  {
   "cell_type": "code",
   "execution_count": 1,
   "id": "b2ea9a77",
   "metadata": {},
   "outputs": [],
   "source": [
    "import json\n",
    "from multiprocessing import Pool\n",
    "\n",
    "import fair\n",
    "import matplotlib.pyplot as pl\n",
    "import numpy as np\n",
    "import pandas as pd\n",
    "from tqdm import tqdm"
   ]
  },
  {
   "cell_type": "code",
   "execution_count": 2,
   "id": "c6e008e2",
   "metadata": {},
   "outputs": [],
   "source": [
    "with open('../data_input/fair-1.6.2-ar6/fair-1.6.2-wg3-params.json') as f:\n",
    "    config_list = json.load(f)"
   ]
  },
  {
   "cell_type": "code",
   "execution_count": 3,
   "id": "aaa0477c",
   "metadata": {},
   "outputs": [],
   "source": [
    "df = pd.read_csv('../data_input/ar6/gmst-assessment.csv')\n",
    "ar6_gmst = df['temperature'].values"
   ]
  },
  {
   "cell_type": "code",
   "execution_count": 4,
   "id": "5a9b5ce5",
   "metadata": {},
   "outputs": [],
   "source": [
    "emissions_in = {}\n",
    "results_out = {}"
   ]
  },
  {
   "cell_type": "markdown",
   "id": "414d6a0f",
   "metadata": {},
   "source": [
    "## convenience function for running FaIR config with each emission species"
   ]
  },
  {
   "cell_type": "code",
   "execution_count": 5,
   "id": "0d0d72b2",
   "metadata": {},
   "outputs": [],
   "source": [
    "def run_fair(args):\n",
    "    thisC, thisF, thisT, _, thisOHU, _, thisAF = fair.forward.fair_scm(**args)\n",
    "    return (thisC[:,0], thisT, np.sum(thisF[:,:43], axis=1), np.sum(thisF[:,35:41], axis=1), np.sum(thisF, axis=1))\n",
    "\n",
    "def fair_process(emissions):\n",
    "    updated_config = []\n",
    "    for i, cfg in enumerate(config_list):\n",
    "        updated_config.append({})\n",
    "        for key, value in cfg.items():\n",
    "            if isinstance(value, list):\n",
    "                updated_config[i][key] = np.asarray(value)\n",
    "            else:\n",
    "                updated_config[i][key] = value\n",
    "        updated_config[i]['emissions'] = emissions\n",
    "        updated_config[i]['diagnostics'] = 'AR6'\n",
    "        updated_config[i][\"efficacy\"] = np.ones(45)\n",
    "        updated_config[i][\"gir_carbon_cycle\"] = True\n",
    "        updated_config[i][\"temperature_function\"] = \"Geoffroy\"\n",
    "        updated_config[i][\"aerosol_forcing\"] = \"aerocom+ghan2\"\n",
    "        updated_config[i][\"fixPre1850RCP\"] = False\n",
    "    #    updated_config[i][\"scale\"][43] = 0.6\n",
    "        updated_config[i][\"F_solar\"][270:] = 0\n",
    "    \n",
    "    if __name__ == '__main__':\n",
    "        with Pool(3) as pool:\n",
    "            result = list(tqdm(pool.imap(run_fair, updated_config), total=len(updated_config)))\n",
    "    \n",
    "    result_t = np.array(result).transpose(1,2,0)\n",
    "    c, t, f_ant, f_aer, f_tot = result_t\n",
    "    temp_rebase = t - t[100:151,:].mean(axis=0)\n",
    "    \n",
    "    return c, temp_rebase, f_ant, f_aer, f_tot"
   ]
  },
  {
   "cell_type": "code",
   "execution_count": null,
   "id": "bad7272e",
   "metadata": {},
   "outputs": [],
   "source": [
    "updated_config = []\n",
    "for i, cfg in enumerate(config_list):\n",
    "    updated_config.append({})\n",
    "    for key, value in cfg.items():\n",
    "        if isinstance(value, list):\n",
    "            updated_config[i][key] = np.asarray(value)\n",
    "        else:\n",
    "            updated_config[i][key] = value\n",
    "    updated_config[i]['emissions'] = emissions_out[scenario]\n",
    "    updated_config[i]['diagnostics'] = 'AR6'\n",
    "    updated_config[i][\"efficacy\"] = np.ones(45)\n",
    "    updated_config[i][\"gir_carbon_cycle\"] = True\n",
    "    updated_config[i][\"temperature_function\"] = \"Geoffroy\"\n",
    "    updated_config[i][\"aerosol_forcing\"] = \"aerocom+ghan2\"\n",
    "    updated_config[i][\"fixPre1850RCP\"] = False\n",
    "#    updated_config[i][\"scale\"][43] = 0.6\n",
    "    updated_config[i][\"F_solar\"][270:] = 0\n",
    "    \n",
    "results_out[scenario] = {}\n",
    "c, t, f_ant, f_aer, f_tot = result_t\n",
    "temp_rebase = t - t[100:151,:].mean(axis=0)\n",
    "results_out[scenario]['co2_conc'] = c\n",
    "results_out[scenario]['temp'] = temp_rebase\n",
    "results_out[scenario]['F_ant'] = f_ant\n",
    "results_out[scenario]['F_aer'] = f_aer\n",
    "results_out[scenario]['F_tot'] = f_tot"
   ]
  },
  {
   "cell_type": "code",
   "execution_count": null,
   "id": "77be1d06",
   "metadata": {},
   "outputs": [],
   "source": [
    "pl.fill_between(np.arange(1750.5,2111), np.percentile(results_out[scenario]['temp'], 5, axis=1), np.percentile(results_out[scenario]['temp'], 95, axis=1))\n",
    "pl.plot(np.arange(1750.5,2111), np.percentile(results_out[scenario]['temp'], 50, axis=1), color='k')\n",
    "pl.plot(np.arange(1850.5, 2021), ar6_gmst, color='r')\n",
    "\n",
    "pl.grid()"
   ]
  },
  {
   "cell_type": "code",
   "execution_count": null,
   "id": "dd2ffdf0",
   "metadata": {},
   "outputs": [],
   "source": [
    "pl.plot(np.arange(1750.5,2111), np.percentile(results_out['ssp245']['temp'], 50, axis=1), color='k')\n",
    "pl.plot(np.arange(1750.5,2111), np.percentile(results_out['ch4_50']['temp'], 50, axis=1), color='r')\n",
    "pl.xlim(2015, 2050)\n",
    "pl.ylim(1.1, 1.9)\n",
    "pl.grid()"
   ]
  }
 ],
 "metadata": {
  "kernelspec": {
   "display_name": "Python 3 (ipykernel)",
   "language": "python",
   "name": "python3"
  },
  "language_info": {
   "codemirror_mode": {
    "name": "ipython",
    "version": 3
   },
   "file_extension": ".py",
   "mimetype": "text/x-python",
   "name": "python",
   "nbconvert_exporter": "python",
   "pygments_lexer": "ipython3",
   "version": "3.7.11"
  }
 },
 "nbformat": 4,
 "nbformat_minor": 5
}
