{
 "cells": [
  {
   "cell_type": "markdown",
   "id": "9489eaae",
   "metadata": {},
   "source": [
    "# Run pathways in FaIR\n",
    "\n",
    "The pathways are generated elsewhere, imported here and then run."
   ]
  },
  {
   "cell_type": "code",
   "execution_count": 1,
   "id": "2e673f8e",
   "metadata": {},
   "outputs": [],
   "source": [
    "import json\n",
    "from multiprocessing import Pool\n",
    "import platform\n",
    "\n",
    "from climateforcing.utils import mkdir_p\n",
    "import fair\n",
    "import matplotlib.pyplot as pl\n",
    "import numpy as np\n",
    "import pandas as pd\n",
    "from tqdm import tqdm"
   ]
  },
  {
   "cell_type": "code",
   "execution_count": 2,
   "id": "2f3a7b5f",
   "metadata": {},
   "outputs": [],
   "source": [
    "with open('../data_input/fair-1.6.2-ar6/fair-1.6.2-wg3-params.json') as f:\n",
    "    config_list = json.load(f)"
   ]
  },
  {
   "cell_type": "code",
   "execution_count": 3,
   "id": "08cb0464",
   "metadata": {},
   "outputs": [],
   "source": [
    "emissions_in = {}\n",
    "results_out = {}\n",
    "WORKERS = 3  # set this based on your individual machine - allows parallelisation. nprocessors-1 is a sensible shout."
   ]
  },
  {
   "cell_type": "code",
   "execution_count": 4,
   "id": "3ec34ab1",
   "metadata": {},
   "outputs": [],
   "source": [
    "scenarios = [\"ssp245_constant-2020-ch4\", \"ch4_30\", \"ch4_40\", \"ch4_50\", \"coal-phase-out\"]"
   ]
  },
  {
   "cell_type": "code",
   "execution_count": 5,
   "id": "bf369caf",
   "metadata": {},
   "outputs": [],
   "source": [
    "for scenario in scenarios:\n",
    "    emissions_in[scenario] = np.loadtxt('../data_output/fair_emissions_files/{}.csv'.format(scenario), delimiter=',')"
   ]
  },
  {
   "cell_type": "markdown",
   "id": "12f70db3",
   "metadata": {},
   "source": [
    "## convenience function for running FaIR config with each emission species"
   ]
  },
  {
   "cell_type": "code",
   "execution_count": 6,
   "id": "7b2b4de8",
   "metadata": {},
   "outputs": [],
   "source": [
    "def run_fair(args):\n",
    "    thisC, thisF, thisT, _, thisOHU, _, thisAF = fair.forward.fair_scm(**args)\n",
    "    return (thisC[:,0], thisC[:,1], thisT, np.sum(thisF, axis=1))\n",
    "\n",
    "def fair_process(emissions):\n",
    "    updated_config = []\n",
    "    for i, cfg in enumerate(config_list):\n",
    "        updated_config.append({})\n",
    "        for key, value in cfg.items():\n",
    "            if isinstance(value, list):\n",
    "                updated_config[i][key] = np.asarray(value)\n",
    "            else:\n",
    "                updated_config[i][key] = value\n",
    "        updated_config[i]['emissions'] = emissions\n",
    "        updated_config[i]['diagnostics'] = 'AR6'\n",
    "        updated_config[i][\"efficacy\"] = np.ones(45)\n",
    "        updated_config[i][\"gir_carbon_cycle\"] = True\n",
    "        updated_config[i][\"temperature_function\"] = \"Geoffroy\"\n",
    "        updated_config[i][\"aerosol_forcing\"] = \"aerocom+ghan2\"\n",
    "        updated_config[i][\"fixPre1850RCP\"] = False\n",
    "    #    updated_config[i][\"scale\"][43] = 0.6\n",
    "        updated_config[i][\"F_solar\"][270:] = 0\n",
    "        \n",
    "    # multiprocessing is not working for me on Windows\n",
    "    if platform.system() == 'Windows':\n",
    "        shape = (361, len(updated_config))\n",
    "        c_co2 = np.ones(shape) * np.nan\n",
    "        c_ch4 = np.ones(shape) * np.nan\n",
    "        t = np.ones(shape) * np.nan\n",
    "        f_tot = np.ones(shape) * np.nan\n",
    "        for i, cfg in tqdm(enumerate(updated_config), total=len(updated_config), position=0, leave=True):\n",
    "            c_co2[:,i], c_ch4[:,i], t[:,i], f_tot[:,i] = run_fair(updated_config[i])\n",
    "    \n",
    "    else:\n",
    "        if __name__ == '__main__':\n",
    "            with Pool(WORKERS) as pool:\n",
    "                result = list(tqdm(pool.imap(run_fair, updated_config), total=len(updated_config), position=0, leave=True))\n",
    "\n",
    "        result_t = np.array(result).transpose(1,2,0)\n",
    "        c_co2, c_ch4, t, f_tot = result_t\n",
    "    temp_rebase = t - t[100:151,:].mean(axis=0)\n",
    "    \n",
    "    return c_co2, c_ch4, temp_rebase, f_tot"
   ]
  },
  {
   "cell_type": "markdown",
   "id": "791aa072",
   "metadata": {},
   "source": [
    "## Do the runs"
   ]
  },
  {
   "cell_type": "code",
   "execution_count": 7,
   "id": "eef73436",
   "metadata": {},
   "outputs": [
    {
     "name": "stderr",
     "output_type": "stream",
     "text": [
      "100%|███████████████████████████████████████| 2237/2237 [02:44<00:00, 13.57it/s]\n",
      "100%|███████████████████████████████████████| 2237/2237 [02:29<00:00, 14.93it/s]\n",
      "100%|███████████████████████████████████████| 2237/2237 [02:35<00:00, 14.37it/s]\n",
      "100%|███████████████████████████████████████| 2237/2237 [03:38<00:00, 10.23it/s]\n",
      "100%|███████████████████████████████████████| 2237/2237 [02:50<00:00, 13.16it/s]\n",
      "100%|████████████████████████████████████████████| 5/5 [14:26<00:00, 173.25s/it]\n"
     ]
    }
   ],
   "source": [
    "for scenario in tqdm(scenarios, position=0, leave=True):\n",
    "    results_out[scenario] = {}\n",
    "    (\n",
    "        results_out[scenario]['co2_concentrations'],\n",
    "        results_out[scenario]['ch4_concentrations'],\n",
    "        results_out[scenario]['temperatures'],\n",
    "        results_out[scenario]['effective_radiative_forcing']\n",
    "    ) = fair_process(emissions_in[scenario])"
   ]
  },
  {
   "cell_type": "markdown",
   "id": "b812440d",
   "metadata": {},
   "source": [
    "## Save temperature outputs to analyse elsewhere"
   ]
  },
  {
   "cell_type": "code",
   "execution_count": 8,
   "id": "04a8e55c",
   "metadata": {},
   "outputs": [],
   "source": [
    "for scenario in scenarios:\n",
    "    for var in ['co2_concentrations', 'ch4_concentrations', 'temperatures', 'effective_radiative_forcing']:\n",
    "        mkdir_p('../data_output/fair_{}/'.format(var))\n",
    "        df_out = pd.DataFrame(results_out[scenario][var][245:351,:])\n",
    "        df_out['year'] = np.arange(1995.5, 2101)\n",
    "        df_out.set_index('year', inplace=True)\n",
    "        df_out.to_csv('../data_output/fair_{}/{}.csv'.format(var, scenario), float_format=\"%6.4f\")"
   ]
  },
  {
   "cell_type": "code",
   "execution_count": null,
   "id": "388c49d8",
   "metadata": {},
   "outputs": [],
   "source": []
  }
 ],
 "metadata": {
  "kernelspec": {
   "display_name": "Python 3 (ipykernel)",
   "language": "python",
   "name": "python3"
  },
  "language_info": {
   "codemirror_mode": {
    "name": "ipython",
    "version": 3
   },
   "file_extension": ".py",
   "mimetype": "text/x-python",
   "name": "python",
   "nbconvert_exporter": "python",
   "pygments_lexer": "ipython3",
   "version": "3.7.11"
  }
 },
 "nbformat": 4,
 "nbformat_minor": 5
}
