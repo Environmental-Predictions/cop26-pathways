{
 "cells": [
  {
   "cell_type": "markdown",
   "id": "9489eaae",
   "metadata": {},
   "source": [
    "# Run pathways in FaIR\n",
    "\n",
    "The pathways are generated elsewhere, imported here and then run."
   ]
  },
  {
   "cell_type": "code",
   "execution_count": 1,
   "id": "2e673f8e",
   "metadata": {},
   "outputs": [],
   "source": [
    "import json\n",
    "from multiprocessing import Pool\n",
    "\n",
    "from climateforcing.utils import mkdir_p\n",
    "import fair\n",
    "import matplotlib.pyplot as pl\n",
    "import numpy as np\n",
    "import pandas as pd\n",
    "from tqdm import tqdm"
   ]
  },
  {
   "cell_type": "code",
   "execution_count": 2,
   "id": "2f3a7b5f",
   "metadata": {},
   "outputs": [],
   "source": [
    "with open('../data_input/fair-1.6.2-ar6/fair-1.6.2-wg3-params.json') as f:\n",
    "    config_list = json.load(f)"
   ]
  },
  {
   "cell_type": "code",
   "execution_count": 3,
   "id": "08cb0464",
   "metadata": {},
   "outputs": [],
   "source": [
    "emissions_in = {}\n",
    "results_out = {}\n",
    "WORKERS = 3  # set this based on your individual machine - allows parallelisation. nprocessors-1 is a sensible shout."
   ]
  },
  {
   "cell_type": "code",
   "execution_count": 4,
   "id": "3ec34ab1",
   "metadata": {},
   "outputs": [],
   "source": [
    "scenarios = [\"ssp245\", \"ch4_30\", \"ch4_40\", \"ch4_50\", \"ch4_100\", \"co2afolu_0\", \"coal-phase-out\", \"all\"]"
   ]
  },
  {
   "cell_type": "code",
   "execution_count": 5,
   "id": "bf369caf",
   "metadata": {},
   "outputs": [],
   "source": [
    "for scenario in scenarios:\n",
    "    emissions_in[scenario] = np.loadtxt('../data_output/fair_emissions_files/{}.csv'.format(scenario), delimiter=',')"
   ]
  },
  {
   "cell_type": "code",
   "execution_count": 6,
   "id": "2c43a3e5",
   "metadata": {},
   "outputs": [],
   "source": [
    "mkdir_p('../data_output/fair_temperatures/')"
   ]
  },
  {
   "cell_type": "markdown",
   "id": "12f70db3",
   "metadata": {},
   "source": [
    "## convenience function for running FaIR config with each emission species"
   ]
  },
  {
   "cell_type": "code",
   "execution_count": 7,
   "id": "7b2b4de8",
   "metadata": {},
   "outputs": [],
   "source": [
    "def run_fair(args):\n",
    "    thisC, thisF, thisT, _, thisOHU, _, thisAF = fair.forward.fair_scm(**args)\n",
    "    return (thisC[:,0], thisT, np.sum(thisF[:,:43], axis=1), np.sum(thisF[:,35:41], axis=1), np.sum(thisF, axis=1))\n",
    "\n",
    "def fair_process(emissions):\n",
    "    updated_config = []\n",
    "    for i, cfg in enumerate(config_list):\n",
    "        updated_config.append({})\n",
    "        for key, value in cfg.items():\n",
    "            if isinstance(value, list):\n",
    "                updated_config[i][key] = np.asarray(value)\n",
    "            else:\n",
    "                updated_config[i][key] = value\n",
    "        updated_config[i]['emissions'] = emissions\n",
    "        updated_config[i]['diagnostics'] = 'AR6'\n",
    "        updated_config[i][\"efficacy\"] = np.ones(45)\n",
    "        updated_config[i][\"gir_carbon_cycle\"] = True\n",
    "        updated_config[i][\"temperature_function\"] = \"Geoffroy\"\n",
    "        updated_config[i][\"aerosol_forcing\"] = \"aerocom+ghan2\"\n",
    "        updated_config[i][\"fixPre1850RCP\"] = False\n",
    "    #    updated_config[i][\"scale\"][43] = 0.6\n",
    "        updated_config[i][\"F_solar\"][270:] = 0\n",
    "    \n",
    "    if __name__ == '__main__':\n",
    "        with Pool(WORKERS) as pool:\n",
    "            result = list(tqdm(pool.imap(run_fair, updated_config), total=len(updated_config), position=0, leave=True))\n",
    "    \n",
    "    result_t = np.array(result).transpose(1,2,0)\n",
    "    c, t, f_ant, f_aer, f_tot = result_t\n",
    "    temp_rebase = t - t[100:151,:].mean(axis=0)\n",
    "    \n",
    "    return c, temp_rebase, f_ant, f_aer, f_tot"
   ]
  },
  {
   "cell_type": "markdown",
   "id": "791aa072",
   "metadata": {},
   "source": [
    "## Do the runs"
   ]
  },
  {
   "cell_type": "code",
   "execution_count": 8,
   "id": "eef73436",
   "metadata": {},
   "outputs": [
    {
     "name": "stderr",
     "output_type": "stream",
     "text": [
      "100%|███████████████████████████████████████| 2237/2237 [03:18<00:00, 11.29it/s]\n",
      "100%|███████████████████████████████████████| 2237/2237 [03:08<00:00, 11.86it/s]\n",
      "100%|███████████████████████████████████████| 2237/2237 [03:17<00:00, 11.33it/s]\n",
      "100%|███████████████████████████████████████| 2237/2237 [03:35<00:00, 10.36it/s]\n",
      "100%|███████████████████████████████████████| 2237/2237 [03:56<00:00,  9.45it/s]\n",
      "100%|███████████████████████████████████████| 2237/2237 [03:08<00:00, 11.90it/s]\n",
      "100%|███████████████████████████████████████| 2237/2237 [02:58<00:00, 12.53it/s]\n",
      "100%|███████████████████████████████████████| 2237/2237 [03:15<00:00, 11.47it/s]\n",
      "100%|████████████████████████████████████████████| 8/8 [26:50<00:00, 201.35s/it]\n"
     ]
    }
   ],
   "source": [
    "for scenario in tqdm(scenarios, position=0, leave=True):\n",
    "    results_out[scenario] = {}\n",
    "    (\n",
    "        results_out[scenario]['co2_conc'],\n",
    "        results_out[scenario]['temp'],\n",
    "        results_out[scenario]['F_ant'],\n",
    "        results_out[scenario]['F_aer'],\n",
    "        results_out[scenario]['F_tot']\n",
    "    ) = fair_process(emissions_in[scenario])"
   ]
  },
  {
   "cell_type": "markdown",
   "id": "b812440d",
   "metadata": {},
   "source": [
    "## Save temperature outputs to analyse elsewhere"
   ]
  },
  {
   "cell_type": "code",
   "execution_count": 9,
   "id": "04a8e55c",
   "metadata": {},
   "outputs": [],
   "source": [
    "for scenario in scenarios:\n",
    "    df_out = pd.DataFrame(results_out[scenario]['temp'][245:351,:])\n",
    "    df_out['year'] = np.arange(1995.5, 2101)\n",
    "    df_out.set_index('year', inplace=True)\n",
    "    df_out.to_csv('../data_output/fair_temperatures/{}.csv'.format(scenario), float_format=\"%6.4f\")"
   ]
  }
 ],
 "metadata": {
  "kernelspec": {
   "display_name": "Python 3 (ipykernel)",
   "language": "python",
   "name": "python3"
  },
  "language_info": {
   "codemirror_mode": {
    "name": "ipython",
    "version": 3
   },
   "file_extension": ".py",
   "mimetype": "text/x-python",
   "name": "python",
   "nbconvert_exporter": "python",
   "pygments_lexer": "ipython3",
   "version": "3.7.11"
  }
 },
 "nbformat": 4,
 "nbformat_minor": 5
}
